{
 "cells": [
  {
   "cell_type": "code",
   "execution_count": 26,
   "id": "b080118e",
   "metadata": {},
   "outputs": [],
   "source": [
    "import pandas as pd\n",
    "import numpy as np\n",
    "from sklearn.metrics.pairwise import cosine_similarity"
   ]
  },
  {
   "cell_type": "code",
   "execution_count": 4,
   "id": "9526d261",
   "metadata": {},
   "outputs": [],
   "source": [
    "df = pd.read_csv('data_files/노래가사 분위기 점수.csv')"
   ]
  },
  {
   "cell_type": "code",
   "execution_count": 9,
   "id": "23cf0a5d",
   "metadata": {},
   "outputs": [],
   "source": [
    "emotion = df.drop('노래', axis=1)"
   ]
  },
  {
   "cell_type": "code",
   "execution_count": 82,
   "id": "88db4853",
   "metadata": {},
   "outputs": [],
   "source": [
    "a = [20, 10, 15, 13, 4, 6, 3, 5, 4, 3, 6]"
   ]
  },
  {
   "cell_type": "code",
   "execution_count": 83,
   "id": "452674d7",
   "metadata": {},
   "outputs": [],
   "source": [
    "def cosine_similarity(a, b):\n",
    "    return np.dot(a, b) / (np.linalg.norm(a) * (np.linalg.norm(b)))"
   ]
  },
  {
   "cell_type": "code",
   "execution_count": 84,
   "id": "cfa79d2a",
   "metadata": {},
   "outputs": [],
   "source": [
    "def search_similarity(a):\n",
    "    similarity_li = []\n",
    "    for i in range(len(emotion)):\n",
    "        b = emotion.iloc[i, :].values\n",
    "        similarity_li.append(cos_similarity(a, b))\n",
    "    return df.iloc[np.argmax(similarity_li), 0]"
   ]
  },
  {
   "cell_type": "code",
   "execution_count": 85,
   "id": "fc108c74",
   "metadata": {},
   "outputs": [
    {
     "data": {
      "text/plain": [
       "\"('Rosario (Feat. CL, ZICO)', 'Sam Smith')\""
      ]
     },
     "execution_count": 85,
     "metadata": {},
     "output_type": "execute_result"
    }
   ],
   "source": [
    "search_similarity(a)"
   ]
  },
  {
   "cell_type": "code",
   "execution_count": null,
   "id": "47072a57",
   "metadata": {},
   "outputs": [],
   "source": []
  }
 ],
 "metadata": {
  "kernelspec": {
   "display_name": "Python 3 (ipykernel)",
   "language": "python",
   "name": "python3"
  },
  "language_info": {
   "codemirror_mode": {
    "name": "ipython",
    "version": 3
   },
   "file_extension": ".py",
   "mimetype": "text/x-python",
   "name": "python",
   "nbconvert_exporter": "python",
   "pygments_lexer": "ipython3",
   "version": "3.7.13"
  }
 },
 "nbformat": 4,
 "nbformat_minor": 5
}
